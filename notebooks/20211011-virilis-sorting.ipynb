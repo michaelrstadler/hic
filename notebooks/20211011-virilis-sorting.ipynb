{
 "cells": [
  {
   "cell_type": "code",
   "execution_count": 1,
   "source": [
    "# Import my packages.\n",
    "import flymovie as fm\n",
    "import os\n",
    "import copy\n",
    "import scipy\n",
    "import skimage as ski\n",
    "import scipy.ndimage as ndi\n",
    "import numpy as np\n",
    "import pandas as pd\n",
    "import matplotlib.pyplot as plt\n",
    "from dataclasses import dataclass\n",
    "import dask\n",
    "from time import sleep\n",
    "\n",
    "from math import sqrt\n",
    "from skimage.feature import blob_dog, blob_log, blob_doh\n",
    "from skimage.color import rgb2gray\n",
    "\n",
    "# Activate package autoload.\n",
    "%load_ext autoreload\n",
    "%autoreload 2"
   ],
   "outputs": [],
   "metadata": {}
  },
  {
   "cell_type": "code",
   "execution_count": 2,
   "source": [
    "vir = pd.read_csv('/Users/michaelstadler/Bioinformatics/Projects/insulators/scratch/test_interchromosome_counts.txt_chrCounts.txt', sep='\\t')"
   ],
   "outputs": [],
   "metadata": {}
  },
  {
   "cell_type": "code",
   "execution_count": 3,
   "source": [
    "fm.viewer(np.log(vir.to_numpy()+ 0.5), 5)"
   ],
   "outputs": [
    {
     "output_type": "display_data",
     "data": {
      "application/vnd.jupyter.widget-view+json": {
       "version_major": 2,
       "version_minor": 0,
       "model_id": "a5f27fa397894a83a63857b3bc0ca270"
      },
      "text/plain": [
       "interactive(children=(Dropdown(description='Color', index=5, options=('plasma', 'viridis', 'magma', 'Gators', …"
      ]
     },
     "metadata": {}
    }
   ],
   "metadata": {}
  },
  {
   "cell_type": "code",
   "execution_count": 6,
   "source": [
    "def normalize(x):\n",
    "    #sums = np.sum(x.to_numpy(), axis=0)\n",
    "    diag = np.diag(x)\n",
    "    sum_ = np.sum(diag)\n",
    "    matrix = np.outer(diag / sum_, diag / sum_) * sum_\n",
    "    return x / matrix * 1e9\n",
    "\n",
    "def view(x):\n",
    "    fm.viewer(x.to_numpy() + 0.5)\n",
    "\n",
    "def reorder(x, order):\n",
    "    new = np.zeros([len(order), len(order)])\n",
    "    for i in range(0, len(order)):\n",
    "        for j in range(0, len(order)):\n",
    "            new[i, j] = x[order[i]][order[j]]\n",
    "    return new"
   ],
   "outputs": [],
   "metadata": {}
  },
  {
   "cell_type": "code",
   "execution_count": 7,
   "source": [
    "virnorm = normalize(vir)\n",
    "view(virnorm)"
   ],
   "outputs": [
    {
     "output_type": "display_data",
     "data": {
      "application/vnd.jupyter.widget-view+json": {
       "version_major": 2,
       "version_minor": 0,
       "model_id": "c650c8c00ab94836886d6de61117287c"
      },
      "text/plain": [
       "interactive(children=(Dropdown(description='Color', index=5, options=('plasma', 'viridis', 'magma', 'Gators', …"
      ]
     },
     "metadata": {}
    }
   ],
   "metadata": {}
  },
  {
   "cell_type": "code",
   "execution_count": 39,
   "source": [
    "order = [\n",
    "'scaffold_13049',\n",
    "'scaffold_12963',\n",
    "'scaffold_13047',\n",
    "'scaffold_12875',\n",
    "'scaffold_12855',\n",
    "'scaffold_12970',\n",
    "'scaffold_12723',\n",
    "'scaffold_12928',\n",
    "'scaffold_12822',\n",
    "'scaffold_13042',\n",
    "\t'scaffold_12958',\n",
    "\t'scaffold_12726',\n",
    "\t'scaffold_13246',\n",
    "\t'scaffold_12823',\n",
    "\t'scaffold_13324',\n",
    "\t'scaffold_12932',\n",
    "\t'scaffold_13052',\n",
    "\t'scaffold_12758','scaffold_13050','scaffold_10324','scaffold_12728','scaffold_12954','scaffold_12472',\n",
    "\t'scaffold_12736','scaffold_12967','scaffold_13045','scaffold_13036','scaffold_12936','scaffold_12799',\n",
    "\t'scaffold_10322','scaffold_12100','scaffold_12734','scaffold_12937','scaffold_12929','scaffold_12941',\n",
    "\t'scaffold_12528','scaffold_12735','scaffold_12815','scaffold_12942','scaffold_10419','scaffold_9476',\n",
    "\t'scaffold_12847','scaffold_12930','scaffold_12790','scaffold_12730','scaffold_12891','scaffold_12952',\n",
    "\t'scaffold_12961','scaffold_12325','scaffold_12960','scaffold_12945','scaffold_12514']"
   ],
   "outputs": [],
   "metadata": {}
  },
  {
   "cell_type": "code",
   "execution_count": 89,
   "source": [
    "neworder = ['scaffold_12723',\n",
    "'scaffold_12963',\n",
    "'scaffold_13049',\n",
    "'scaffold_12875',\n",
    "'scaffold_12958',\n",
    "'scaffold_12855',\n",
    "'scaffold_13047',\n",
    "'scaffold_12822',\n",
    "'scaffold_12970',\n",
    "'scaffold_12928',\n",
    "'scaffold_13042',\n",
    "\n",
    "]\n",
    "\n",
    "fm.viewer(np.log(reorder(virnorm, order) + 0.5) * 10, 5)"
   ],
   "outputs": [
    {
     "output_type": "display_data",
     "data": {
      "application/vnd.jupyter.widget-view+json": {
       "version_major": 2,
       "version_minor": 0,
       "model_id": "2ded3ee04b114d3ebb1a761a0d0a4563"
      },
      "text/plain": [
       "interactive(children=(Dropdown(description='Color', index=5, options=('magma', 'Gators', 'Reds', 'gray_r', 'Gr…"
      ]
     },
     "metadata": {}
    }
   ],
   "metadata": {}
  },
  {
   "cell_type": "code",
   "execution_count": 16,
   "source": [
    "x = vir\n",
    "diag = np.diag(x)\n",
    "sum_ = np.sum(diag)\n",
    "matrix = np.outer(diag / sum_, diag / sum_) * sum_"
   ],
   "outputs": [],
   "metadata": {}
  },
  {
   "cell_type": "code",
   "execution_count": 17,
   "source": [
    "np.sum(matrix)"
   ],
   "outputs": [
    {
     "output_type": "execute_result",
     "data": {
      "text/plain": [
       "20974901.999999996"
      ]
     },
     "metadata": {},
     "execution_count": 17
    }
   ],
   "metadata": {}
  },
  {
   "cell_type": "code",
   "execution_count": 18,
   "source": [],
   "outputs": [
    {
     "output_type": "execute_result",
     "data": {
      "text/plain": [
       "20974902"
      ]
     },
     "metadata": {},
     "execution_count": 18
    }
   ],
   "metadata": {}
  },
  {
   "cell_type": "code",
   "execution_count": null,
   "source": [],
   "outputs": [],
   "metadata": {}
  }
 ],
 "metadata": {
  "orig_nbformat": 4,
  "language_info": {
   "name": "python",
   "version": "3.9.7",
   "mimetype": "text/x-python",
   "codemirror_mode": {
    "name": "ipython",
    "version": 3
   },
   "pygments_lexer": "ipython3",
   "nbconvert_exporter": "python",
   "file_extension": ".py"
  },
  "kernelspec": {
   "name": "python3",
   "display_name": "Python 3.9.7 64-bit ('im2': conda)"
  },
  "interpreter": {
   "hash": "d2063893cbdc6ca5ec238a4eeaf6d9e17a16428414b8b24d95068ecd0eaad2ec"
  }
 },
 "nbformat": 4,
 "nbformat_minor": 2
}