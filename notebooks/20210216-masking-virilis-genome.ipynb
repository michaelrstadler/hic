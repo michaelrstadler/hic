{
 "cells": [
  {
   "cell_type": "markdown",
   "metadata": {},
   "source": [
    "# Masking low-visibility regions in genomes\n",
    "\n",
    "Low-visibility regions somewhat mask themselves, but there is some advantage in cleaning the data up so stray reads aren't included. I use a very simple strategy of generating simulated Hi-C reads based on digestion at restriction sites, mapping them using the same pipeline used for Hi-C data, then fitting a 2 state HMM to the resulting binned coverage data (binned in the same style as done for Hi-C). t"
   ]
  },
  {
   "cell_type": "code",
   "execution_count": 1,
   "metadata": {},
   "outputs": [],
   "source": [
    "# Import public packages.\n",
    "import numpy as np\n",
    "import matplotlib.pyplot as plt\n",
    "from scipy import ndimage as ndi \n",
    "from importlib import reload\n",
    "import pickle\n",
    "import gzip\n",
    "import re\n",
    "import os\n",
    "from hmmlearn import hmm\n",
    "from Bio import SeqIO\n",
    "\n",
    "# Import my packages.\n",
    "%matplotlib inline\n",
    "import matplotlib as mpl\n",
    "%matplotlib notebook\n",
    "%matplotlib notebook\n",
    "\n",
    "import sys\n",
    "from importlib import reload\n",
    "sys.path.append('/Users/michaelstadler/Bioinformatics/Projects/insulators/bin')\n",
    "from hic_jupyter import viewer\n",
    "import hic_jupyter as hc"
   ]
  },
  {
   "cell_type": "code",
   "execution_count": 2,
   "metadata": {},
   "outputs": [
    {
     "ename": "FileNotFoundError",
     "evalue": "[Errno 2] No such file or directory: '/Users/michaelstadler/Bioinformatics/reference/droVir3.fa'",
     "output_type": "error",
     "traceback": [
      "\u001b[0;31m---------------------------------------------------------------------------\u001b[0m",
      "\u001b[0;31mFileNotFoundError\u001b[0m                         Traceback (most recent call last)",
      "\u001b[0;32m<ipython-input-2-d6ae519d75a6>\u001b[0m in \u001b[0;36m<module>\u001b[0;34m\u001b[0m\n\u001b[1;32m      1\u001b[0m \u001b[0;31m# Filter virilis genome for scaffolds of some minimum length (there are over 4000).\u001b[0m\u001b[0;34m\u001b[0m\u001b[0;34m\u001b[0m\u001b[0;34m\u001b[0m\u001b[0m\n\u001b[0;32m----> 2\u001b[0;31m \u001b[0mgenome\u001b[0m \u001b[0;34m=\u001b[0m \u001b[0mSeqIO\u001b[0m\u001b[0;34m.\u001b[0m\u001b[0mparse\u001b[0m\u001b[0;34m(\u001b[0m\u001b[0;34m\"/Users/michaelstadler/Bioinformatics/reference/droVir3.fa\"\u001b[0m\u001b[0;34m,\u001b[0m \u001b[0;34m\"fasta\"\u001b[0m\u001b[0;34m)\u001b[0m\u001b[0;34m\u001b[0m\u001b[0;34m\u001b[0m\u001b[0m\n\u001b[0m\u001b[1;32m      3\u001b[0m \u001b[0moutfile\u001b[0m \u001b[0;34m=\u001b[0m \u001b[0mopen\u001b[0m\u001b[0;34m(\u001b[0m\u001b[0;34m'/Users/michaelstadler/Bioinformatics/reference/droVir3_100kb.fa'\u001b[0m\u001b[0;34m,\u001b[0m \u001b[0;34m'w'\u001b[0m\u001b[0;34m)\u001b[0m\u001b[0;34m\u001b[0m\u001b[0;34m\u001b[0m\u001b[0m\n\u001b[1;32m      4\u001b[0m \u001b[0mminlen\u001b[0m \u001b[0;34m=\u001b[0m \u001b[0;36m100000\u001b[0m\u001b[0;34m\u001b[0m\u001b[0;34m\u001b[0m\u001b[0m\n\u001b[1;32m      5\u001b[0m \u001b[0mi\u001b[0m\u001b[0;34m=\u001b[0m\u001b[0;36m0\u001b[0m\u001b[0;34m\u001b[0m\u001b[0;34m\u001b[0m\u001b[0m\n",
      "\u001b[0;32m~/opt/anaconda3/envs/im/lib/python3.8/site-packages/Bio/SeqIO/__init__.py\u001b[0m in \u001b[0;36mparse\u001b[0;34m(handle, format, alphabet)\u001b[0m\n\u001b[1;32m    605\u001b[0m     \u001b[0miterator_generator\u001b[0m \u001b[0;34m=\u001b[0m \u001b[0m_FormatToIterator\u001b[0m\u001b[0;34m.\u001b[0m\u001b[0mget\u001b[0m\u001b[0;34m(\u001b[0m\u001b[0mformat\u001b[0m\u001b[0;34m)\u001b[0m\u001b[0;34m\u001b[0m\u001b[0;34m\u001b[0m\u001b[0m\n\u001b[1;32m    606\u001b[0m     \u001b[0;32mif\u001b[0m \u001b[0miterator_generator\u001b[0m\u001b[0;34m:\u001b[0m\u001b[0;34m\u001b[0m\u001b[0;34m\u001b[0m\u001b[0m\n\u001b[0;32m--> 607\u001b[0;31m         \u001b[0;32mreturn\u001b[0m \u001b[0miterator_generator\u001b[0m\u001b[0;34m(\u001b[0m\u001b[0mhandle\u001b[0m\u001b[0;34m)\u001b[0m\u001b[0;34m\u001b[0m\u001b[0;34m\u001b[0m\u001b[0m\n\u001b[0m\u001b[1;32m    608\u001b[0m     \u001b[0;32mif\u001b[0m \u001b[0mformat\u001b[0m \u001b[0;32min\u001b[0m \u001b[0mAlignIO\u001b[0m\u001b[0;34m.\u001b[0m\u001b[0m_FormatToIterator\u001b[0m\u001b[0;34m:\u001b[0m\u001b[0;34m\u001b[0m\u001b[0;34m\u001b[0m\u001b[0m\n\u001b[1;32m    609\u001b[0m         \u001b[0;31m# Use Bio.AlignIO to read in the alignments\u001b[0m\u001b[0;34m\u001b[0m\u001b[0;34m\u001b[0m\u001b[0;34m\u001b[0m\u001b[0m\n",
      "\u001b[0;32m~/opt/anaconda3/envs/im/lib/python3.8/site-packages/Bio/SeqIO/FastaIO.py\u001b[0m in \u001b[0;36m__init__\u001b[0;34m(self, source, alphabet, title2ids)\u001b[0m\n\u001b[1;32m    181\u001b[0m             \u001b[0;32mraise\u001b[0m \u001b[0mValueError\u001b[0m\u001b[0;34m(\u001b[0m\u001b[0;34m\"The alphabet argument is no longer supported\"\u001b[0m\u001b[0;34m)\u001b[0m\u001b[0;34m\u001b[0m\u001b[0;34m\u001b[0m\u001b[0m\n\u001b[1;32m    182\u001b[0m         \u001b[0mself\u001b[0m\u001b[0;34m.\u001b[0m\u001b[0mtitle2ids\u001b[0m \u001b[0;34m=\u001b[0m \u001b[0mtitle2ids\u001b[0m\u001b[0;34m\u001b[0m\u001b[0;34m\u001b[0m\u001b[0m\n\u001b[0;32m--> 183\u001b[0;31m         \u001b[0msuper\u001b[0m\u001b[0;34m(\u001b[0m\u001b[0;34m)\u001b[0m\u001b[0;34m.\u001b[0m\u001b[0m__init__\u001b[0m\u001b[0;34m(\u001b[0m\u001b[0msource\u001b[0m\u001b[0;34m,\u001b[0m \u001b[0mmode\u001b[0m\u001b[0;34m=\u001b[0m\u001b[0;34m\"t\"\u001b[0m\u001b[0;34m,\u001b[0m \u001b[0mfmt\u001b[0m\u001b[0;34m=\u001b[0m\u001b[0;34m\"Fasta\"\u001b[0m\u001b[0;34m)\u001b[0m\u001b[0;34m\u001b[0m\u001b[0;34m\u001b[0m\u001b[0m\n\u001b[0m\u001b[1;32m    184\u001b[0m \u001b[0;34m\u001b[0m\u001b[0m\n\u001b[1;32m    185\u001b[0m     \u001b[0;32mdef\u001b[0m \u001b[0mparse\u001b[0m\u001b[0;34m(\u001b[0m\u001b[0mself\u001b[0m\u001b[0;34m,\u001b[0m \u001b[0mhandle\u001b[0m\u001b[0;34m)\u001b[0m\u001b[0;34m:\u001b[0m\u001b[0;34m\u001b[0m\u001b[0;34m\u001b[0m\u001b[0m\n",
      "\u001b[0;32m~/opt/anaconda3/envs/im/lib/python3.8/site-packages/Bio/SeqIO/Interfaces.py\u001b[0m in \u001b[0;36m__init__\u001b[0;34m(self, source, alphabet, mode, fmt)\u001b[0m\n\u001b[1;32m     45\u001b[0m             \u001b[0;32mraise\u001b[0m \u001b[0mValueError\u001b[0m\u001b[0;34m(\u001b[0m\u001b[0;34m\"The alphabet argument is no longer supported\"\u001b[0m\u001b[0;34m)\u001b[0m\u001b[0;34m\u001b[0m\u001b[0;34m\u001b[0m\u001b[0m\n\u001b[1;32m     46\u001b[0m         \u001b[0;32mtry\u001b[0m\u001b[0;34m:\u001b[0m\u001b[0;34m\u001b[0m\u001b[0;34m\u001b[0m\u001b[0m\n\u001b[0;32m---> 47\u001b[0;31m             \u001b[0mself\u001b[0m\u001b[0;34m.\u001b[0m\u001b[0mstream\u001b[0m \u001b[0;34m=\u001b[0m \u001b[0mopen\u001b[0m\u001b[0;34m(\u001b[0m\u001b[0msource\u001b[0m\u001b[0;34m,\u001b[0m \u001b[0;34m\"r\"\u001b[0m \u001b[0;34m+\u001b[0m \u001b[0mmode\u001b[0m\u001b[0;34m)\u001b[0m\u001b[0;34m\u001b[0m\u001b[0;34m\u001b[0m\u001b[0m\n\u001b[0m\u001b[1;32m     48\u001b[0m             \u001b[0mself\u001b[0m\u001b[0;34m.\u001b[0m\u001b[0mshould_close_stream\u001b[0m \u001b[0;34m=\u001b[0m \u001b[0;32mTrue\u001b[0m\u001b[0;34m\u001b[0m\u001b[0;34m\u001b[0m\u001b[0m\n\u001b[1;32m     49\u001b[0m         \u001b[0;32mexcept\u001b[0m \u001b[0mTypeError\u001b[0m\u001b[0;34m:\u001b[0m  \u001b[0;31m# not a path, assume we received a stream\u001b[0m\u001b[0;34m\u001b[0m\u001b[0;34m\u001b[0m\u001b[0m\n",
      "\u001b[0;31mFileNotFoundError\u001b[0m: [Errno 2] No such file or directory: '/Users/michaelstadler/Bioinformatics/reference/droVir3.fa'"
     ]
    }
   ],
   "source": [
    "# Filter virilis genome for scaffolds of some minimum length (there are over 4000).\n",
    "genome = SeqIO.parse(\"/Users/michaelstadler/Bioinformatics/reference/droVir3.fa\", \"fasta\")\n",
    "outfile = open('/Users/michaelstadler/Bioinformatics/reference/droVir3_100kb.fa', 'w')\n",
    "minlen = 100000\n",
    "i=0\n",
    "for record in genome:\n",
    "    l = len(str(record.seq))\n",
    "    if (l > minlen):\n",
    "        i += 1\n",
    "        outfile.write('>' + str(record.name) + '\\n')\n",
    "        outfile.write(str(record.seq) + '\\n')\n",
    "outfile.close()\n",
    "print(i)"
   ]
  },
  {
   "cell_type": "markdown",
   "metadata": {},
   "source": [
    "- Make simulated Hi-C reads from genome using __masking_generate_hic_reads.py__.\n",
    "\n",
    "- Map reads via hi-c mapping routine, output file must contain 'R1'.\n",
    "\n",
    "- Pair reads using __hic_merge_singleend_to_pairedend.py__\n",
    "\n",
    "- Convert to viewer track file using __make_viewertrack_1d_hic.py__"
   ]
  },
  {
   "cell_type": "code",
   "execution_count": null,
   "metadata": {},
   "outputs": [],
   "source": [
    "# If desired, add gzipped version of this file to a folder of viewer tracks, view with Hi-C data.\n",
    "reload(hc)\n",
    "data_folder = '/Users/michaelstadler/Bioinformatics/Projects/insulators/viewer_data/boundary_caller_panels_2R'\n",
    "track_folder = '/Users/michaelstadler/Bioinformatics/Projects/insulators/viewer_data/boundary_caller_tracks'\n",
    "save_folder = '/Users/michaelstadler/Bioinformatics/Projects/insulators/viewer_data/saves/test_2R'\n",
    "hc.viewer(data_folder, track_folder, save_folder)"
   ]
  },
  {
   "cell_type": "code",
   "execution_count": null,
   "metadata": {},
   "outputs": [],
   "source": [
    "# Load viewer track binned file.\n",
    "\n",
    "mappability_file = '/Users/michaelstadler/Bioinformatics/Projects/insulators/viewer_data/boundary_caller_tracks/mappability_1dBinCounts_500.txt.gz'\n",
    "\n",
    "def load_track_data(trackfile_path):\n",
    "    \"\"\"Load genomic track data.\"\"\"\n",
    "    track_binsize = 500\n",
    "    track_data = {}\n",
    "    with gzip.open(trackfile_path, 'rt') as infile:\n",
    "        for line in infile:\n",
    "            items = line.split()\n",
    "            (chr_, bin_, val) = items\n",
    "            chr_ = re.sub('chr', '', chr_)\n",
    "            if (chr_ not in track_data):\n",
    "                track_data[chr_] = np.zeros(int(1e8 / 500))\n",
    "            bin_ = int(bin_)\n",
    "            if (bin_ < len(track_data[chr_])):\n",
    "                track_data[chr_][bin_] = float(val)\n",
    "    return track_data\n",
    "\n",
    "data = load_track_data(mappability_file)"
   ]
  },
  {
   "cell_type": "code",
   "execution_count": null,
   "metadata": {},
   "outputs": [],
   "source": [
    "# Fit a 2-state hmm from chromosome 2R\n",
    "input_data = data['2R'].copy()\n",
    "\n",
    "data_inshape = input_data.reshape(-1,1)\n",
    "mod = hmm.GaussianHMM(n_components=2, covariance_type=\"full\", n_iter=1000)\n",
    "mod.fit(data_inshape)"
   ]
  },
  {
   "cell_type": "code",
   "execution_count": null,
   "metadata": {},
   "outputs": [],
   "source": [
    "mod.means_"
   ]
  },
  {
   "cell_type": "code",
   "execution_count": null,
   "metadata": {},
   "outputs": [],
   "source": [
    "mod.covars_"
   ]
  },
  {
   "cell_type": "markdown",
   "metadata": {},
   "source": [
    "#### Note: if 0 state isn't the lower mean, run again until it is.\n",
    "\n",
    "From experience, the fit will set the variance for the 0 state at around 0, which is too stringent. It will only assign truly 0 blocks to this state, which is insufficient. I find that manually tweaking the variance for the 0 state can find a pretty good sweet spot. I just try a few as viewer tracks and see what seems to do the trick:"
   ]
  },
  {
   "cell_type": "code",
   "execution_count": null,
   "metadata": {},
   "outputs": [],
   "source": [
    "# Write mask as a viewer file, 1 = masked.\n",
    "outfile_stem = '/Users/michaelstadler/Bioinformatics/Projects/insulators/viewer_data/boundary_caller_tracks/mask_melanoster_AATT_dm6_var'\n",
    "\n",
    "for v in [1,2,5,10, 15, 20, 25]:\n",
    "    cov_state1 = mod.covars_[1][0][0]\n",
    "    mod.covars_ = np.array([[[v]], [[cov_state1]]])\n",
    "    Z = mod.predict(data_inshape)\n",
    "    outfile = outfile_stem + str(v) +'.txt'\n",
    "    f = open(outfile, 'w')\n",
    "    for i in range(0, int(1e5)):\n",
    "        val = Z[i]\n",
    "        if (val == 0):\n",
    "            #print('booya')\n",
    "            bin_ = str(i)\n",
    "            line = '2R\\t' + bin_ + '\\t1\\n'\n",
    "            f.write(line)\n",
    "    f.close()\n",
    "    "
   ]
  },
  {
   "cell_type": "code",
   "execution_count": null,
   "metadata": {},
   "outputs": [],
   "source": [
    "# View...don't forget to gzip files.\n",
    "hc.viewer(data_folder, track_folder, save_folder)"
   ]
  },
  {
   "cell_type": "markdown",
   "metadata": {},
   "source": [
    "- Mask viewer panels using script __hic_mask_viewerfiles.py__.\n",
    "\n",
    "View the masked files if desired:"
   ]
  },
  {
   "cell_type": "code",
   "execution_count": null,
   "metadata": {
    "scrolled": false
   },
   "outputs": [],
   "source": [
    "# View masked data output.\n",
    "masked_data_folder = '/Users/michaelstadler/Bioinformatics/Projects/insulators/viewer_data/boundary_caller_panels_2R_masked'\n",
    "hc.viewer(masked_data_folder, track_folder, save_folder)"
   ]
  },
  {
   "cell_type": "code",
   "execution_count": null,
   "metadata": {
    "scrolled": false
   },
   "outputs": [],
   "source": [
    "# Original unmasked data for comparison.\n",
    "hc.viewer(data_folder, track_folder, save_folder)"
   ]
  },
  {
   "cell_type": "code",
   "execution_count": null,
   "metadata": {},
   "outputs": [],
   "source": [
    "# Some code for \"hardmasking\" -- just using a simple threshold.\n",
    "\n",
    "for t in [1, 2, 5, 10]:\n",
    "    outfile = '/Users/michaelstadler/Bioinformatics/Projects/insulators/viewer_data/boundary_caller_tracks/masking_mappability_hardthresh_' + str(t) + '.txt'\n",
    "    out = open(outfile, 'w')\n",
    "    for chr_ in mability.keys():\n",
    "        for i in range(0, len(mability[chr_])):\n",
    "            val = mability[chr_][i]\n",
    "            if (val <= t):\n",
    "                out.write(chr_ + '\\t' + str(i) + '\\t1\\n')\n",
    "    out.close()"
   ]
  }
 ],
 "metadata": {
  "kernelspec": {
   "display_name": "Python (im)",
   "language": "python",
   "name": "im"
  },
  "language_info": {
   "codemirror_mode": {
    "name": "ipython",
    "version": 3
   },
   "file_extension": ".py",
   "mimetype": "text/x-python",
   "name": "python",
   "nbconvert_exporter": "python",
   "pygments_lexer": "ipython3",
   "version": "3.8.3"
  }
 },
 "nbformat": 4,
 "nbformat_minor": 4
}
