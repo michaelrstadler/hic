{
 "cells": [
  {
   "cell_type": "code",
   "execution_count": null,
   "metadata": {},
   "outputs": [],
   "source": [
    "data_folder = '/Users/michaelstadler/Bioinformatics/Projects/hic/viewerfiles/hic-42'\n",
    "track_folder = '/Users/michaelstadler/Bioinformatics/Projects/hic/viewerfiles/viewer_tracks'\n",
    "save_folder = '/Users/michaelstadler/Bioinformatics/Projects/hic/viewerfiles/saves'\n",
    "bin_folder = '/Users/michaelstadler/Bioinformatics/Projects/hic/bin'"
   ]
  },
  {
   "cell_type": "code",
   "execution_count": null,
   "metadata": {},
   "outputs": [],
   "source": [
    "# Import packages.\n",
    "%matplotlib inline\n",
    "import matplotlib as mpl\n",
    "%matplotlib notebook\n",
    "%matplotlib notebook\n",
    "\n",
    "import numpy as np\n",
    "import sys\n",
    "sys.path.append(bin_folder)\n",
    "from hic_jupyter import viewer"
   ]
  },
  {
   "cell_type": "code",
   "execution_count": null,
   "metadata": {
    "scrolled": false
   },
   "outputs": [],
   "source": [
    "viewer(data_folder, track_folder, save_folder, oldformat=False, genometracks=False)"
   ]
  },
  {
   "cell_type": "code",
   "execution_count": null,
   "metadata": {},
   "outputs": [],
   "source": [
    "data_folder = '/Users/michaelstadler/Bioinformatics/Projects/hic/viewerfiles/hic-50'\n",
    "viewer(data_folder, track_folder, save_folder, oldformat=False, genometracks=False)"
   ]
  },
  {
   "cell_type": "code",
   "execution_count": null,
   "metadata": {},
   "outputs": [],
   "source": []
  }
 ],
 "metadata": {
  "kernelspec": {
   "display_name": "Python (im)",
   "language": "python",
   "name": "im"
  },
  "language_info": {
   "codemirror_mode": {
    "name": "ipython",
    "version": 3
   },
   "file_extension": ".py",
   "mimetype": "text/x-python",
   "name": "python",
   "nbconvert_exporter": "python",
   "pygments_lexer": "ipython3",
   "version": "3.8.3"
  }
 },
 "nbformat": 4,
 "nbformat_minor": 4
}
