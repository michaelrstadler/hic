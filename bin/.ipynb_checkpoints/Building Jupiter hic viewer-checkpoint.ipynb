{
 "cells": [
  {
   "cell_type": "markdown",
   "metadata": {},
   "source": []
  },
  {
   "cell_type": "code",
   "execution_count": null,
   "metadata": {},
   "outputs": [],
   "source": [
    "import matplotlib as mpl\n",
    "# mpl.use('TkAgg')"
   ]
  },
  {
   "cell_type": "code",
   "execution_count": 16,
   "metadata": {},
   "outputs": [],
   "source": [
    "import os\n",
    "import numpy as np\n",
    "import matplotlib.pyplot as plt\n",
    "from matplotlib.widgets import Slider, Button, RadioButtons, TextBox\n",
    "import tkinter as tk\n",
    "from tkinter import filedialog\n",
    "import re\n",
    "import ipywidgets as widgets\n",
    "from IPython.display import display\n",
    "\n",
    "# %matplotlib inline\n",
    "%matplotlib qt\n",
    "#bug: if I start with inline then change it to qt it's fine...otherwise error if starting qt"
   ]
  },
  {
   "cell_type": "code",
   "execution_count": null,
   "metadata": {},
   "outputs": [],
   "source": [
    "import os\n",
    "import numpy as np\n",
    "import matplotlib.pyplot as plt\n",
    "import ipywidgets as widgets\n",
    "from ipywidgets import interact, IntSlider, Dropdown, IntRangeSlider, fixed\n",
    "\n",
    "def create_expanded_button(description, button_style):\n",
    "            return Button(description=description, button_style=button_style, layout=Layout(height='auto', width='auto'))\n",
    "\n",
    "\n",
    "def load_process_hic_matrix(infilename):\n",
    "    x = np.genfromtxt(infilename, delimiter='\\t', skip_header=1)\n",
    "    x = x[:,1:] #take of first row which is generally bin names\n",
    "    # Next two lines take care of 0's and nan's by setting to dummy value (typically 0.1)\n",
    "    dummy_val = 0.1\n",
    "    upper_trim = 99\n",
    "    x[x == 0] = dummy_val\n",
    "    x[np.isnan(x)] = dummy_val\n",
    "    top = np.percentile(x, upper_trim)\n",
    "    x[x > top] = top\n",
    "    x = np.log(x)\n",
    "    x = (x - np.min(x)) / (np.max(x) - np.min(x)) * 1000 # scales to 1-255 betwixt min and max values.\n",
    "    return(x)\n",
    "\n",
    "def viewer(data_folder, tracks_folder, save_folder, figsize=8,):\n",
    "    \"\"\"Interactive Jupyter notebook viewer for n-dimensional image stacks.\n",
    "    \n",
    "    Args:\n",
    "        \n",
    "            \n",
    "    Returns: none\n",
    "        \n",
    "    Raises:\n",
    "\n",
    "    \"\"\"\n",
    "    # Update the displayed image with inputs from widgets.\n",
    "    def _update_view(**kwargs):\n",
    "        indexes = []\n",
    "        colmap = kwargs['colmap']\n",
    "        min_ = kwargs['contrast'][0]\n",
    "        max_ = kwargs['contrast'][1]\n",
    "        chrom = kwargs['chrom']\n",
    "        im = load"
   ]
  },
  {
   "cell_type": "code",
   "execution_count": 5,
   "metadata": {},
   "outputs": [],
   "source": [
    "import os\n",
    "import numpy as np\n",
    "import matplotlib.pyplot as plt\n",
    "import ipywidgets as widgets\n",
    "from ipywidgets import interact, IntSlider, Dropdown, IntRangeSlider, fixed, RadioButtons\n",
    "\n",
    "def create_expanded_button(description, button_style):\n",
    "            return Button(description=description, button_style=button_style, layout=Layout(height='auto', width='auto'))\n",
    "\n",
    "\n",
    "def load_process_hic_matrix(infilename):\n",
    "    x = np.genfromtxt(infilename, delimiter='\\t', skip_header=1)\n",
    "    x = x[:,1:] #take of first row which is generally bin names\n",
    "    # Next two lines take care of 0's and nan's by setting to dummy value (typically 0.1)\n",
    "    dummy_val = 0.1\n",
    "    upper_trim = 99\n",
    "    x[x == 0] = dummy_val\n",
    "    x[np.isnan(x)] = dummy_val\n",
    "    top = np.percentile(x, upper_trim)\n",
    "    x[x > top] = top\n",
    "    x = np.log(x)\n",
    "    x = (x - np.min(x)) / (np.max(x) - np.min(x)) * 1000 # scales to 1-255 betwixt min and max values.\n",
    "    return(x)\n",
    "\n",
    "def viewer(data_folder, tracks_folder, save_folder, figsize=8,):\n",
    "    \"\"\"Interactive Jupyter notebook viewer for n-dimensional image stacks.\n",
    "    \n",
    "    Args:\n",
    "        \n",
    "            \n",
    "    Returns: none\n",
    "        \n",
    "    Raises:\n",
    "\n",
    "    \"\"\"\n",
    "    # Update the displayed image with inputs from widgets.\n",
    "    def _update_view(**kwargs):\n",
    "        indexes = []\n",
    "        colmap = kwargs['colmap']\n",
    "        min_ = kwargs['contrast'][0]\n",
    "        max_ = kwargs['contrast'][1]\n",
    "        chrom = kwargs['chrom']\n",
    "        lpos = int(kwargs['position'])\n",
    "        res = int(kwargs['resolution'])\n",
    "        print(lpos)\n",
    "        rpos = lpos + (res * 400)\n",
    "        im = load_process_hic_matrix(os.path.join(data_folder, chrom + '_' + str(lpos) + '_' + str(rpos) + '_' + str(res) + '.txt'))\n",
    "        # Set up frame for plots.\n",
    "        fig, ax = plt.subplots(1, 1)\n",
    "\n",
    "        ax.imshow(im, cmap=colmap, vmin=min_, \n",
    "        vmax=max_);    \n",
    "    \n",
    "    \n",
    "    # Make a dropdown widget for selecting the colormap.\n",
    "    def _make_cmap_dropdown():\n",
    "        cmap_dropdown = Dropdown(\n",
    "            options={'Greens', 'Reds', 'viridis', 'plasma', 'magma', 'inferno','cividis', \n",
    "            'gray', 'gray_r', 'prism'},\n",
    "            value='Greens',\n",
    "            description='Color',\n",
    "        )\n",
    "        return cmap_dropdown\n",
    "    \n",
    "    def _make_chr_dropdown(data_folder):\n",
    "        chrs = set()\n",
    "        for filename in os.listdir(data_folder):\n",
    "            chr_, pos1, pos2, binsize = filename.split('_')\n",
    "            chrs.add(chr_)\n",
    "        chr_dropdown = Dropdown(\n",
    "            options=chrs,\n",
    "            value='2R',\n",
    "            description='Chrom',\n",
    "        )\n",
    "        return chr_dropdown\n",
    "    \n",
    "    # Make a range slider for adjusting image contrast.\n",
    "    def _make_constrast_slider():\n",
    "        min_ = 0\n",
    "        max_ = 1\n",
    "        contrast_slider = IntRangeSlider(\n",
    "            value=[min_, max_],\n",
    "            min=min_,\n",
    "            max=max_,\n",
    "            step=1,\n",
    "            description='Contrast',\n",
    "            disabled=False,\n",
    "            continuous_update=False,\n",
    "            orientation='horizontal',\n",
    "            readout=True,\n",
    "            readout_format='d',\n",
    "        )\n",
    "        return contrast_slider\n",
    "    \n",
    "    def _make_resolution_buttons():\n",
    "        res_buttons = RadioButtons(\n",
    "            options=['500', '1000', '2000', '4000'],\n",
    "            value='4000',\n",
    "            #layout={'width': 'max-content'}, # If the items' names are long\n",
    "            description='Resolution',\n",
    "            disabled=False\n",
    "        )\n",
    "        return res_buttons\n",
    "    \n",
    "    stack = load_process_hic_matrix('/Users/michaelstadler/Bioinformatics/Projects/hic/viewerfiles/hic-66-68/2L_3100000_3300000_500.txt')    \n",
    "\n",
    "    interact_call = {} \n",
    "    cmap_dropdown = _make_cmap_dropdown()\n",
    "    chr_dropdown = _make_chr_dropdown(data_folder)\n",
    "    contrast_slider = _make_constrast_slider()\n",
    "    res_buttons = _make_resolution_buttons()\n",
    "    \n",
    "    postext = widgets.IntText(\n",
    "                    value=0,\n",
    "                    description='Pos:',\n",
    "                    disabled=False\n",
    "                )\n",
    "\n",
    "    interact_call['colmap'] = cmap_dropdown\n",
    "    interact_call['chrom'] = chr_dropdown\n",
    "    interact_call['contrast'] = contrast_slider\n",
    "    interact_call['resolution'] = res_buttons\n",
    "    interact_call['position'] = postext\n",
    "    # Add: position buttons and text box\n",
    "\n",
    "    interact(_update_view, **interact_call)\n",
    "\n",
    "    # Make color and contrast widgets.\n",
    "    #interact(_update_view, **interact_call)\n",
    "    \n",
    "    \n",
    "\n"
   ]
  },
  {
   "cell_type": "code",
   "execution_count": 128,
   "metadata": {},
   "outputs": [
    {
     "data": {
      "application/vnd.jupyter.widget-view+json": {
       "model_id": "eb48761270284d088faaaa878e04c124",
       "version_major": 2,
       "version_minor": 0
      },
      "text/plain": [
       "interactive(children=(Dropdown(description='Color', index=6, options=('viridis', 'Reds', 'plasma', 'gray_r', '…"
      ]
     },
     "metadata": {},
     "output_type": "display_data"
    }
   ],
   "source": [
    "viewer('/Users/michaelstadler/Bioinformatics/Projects/hic/viewerfiles/hic-66-68', '/Users/michaelstadler/Bioinformatics/Projects/hic/viewerfiles/viewer_tracks', '')"
   ]
  },
  {
   "cell_type": "code",
   "execution_count": 111,
   "metadata": {},
   "outputs": [],
   "source": [
    "?os.path.join"
   ]
  },
  {
   "cell_type": "code",
   "execution_count": 76,
   "metadata": {},
   "outputs": [
    {
     "data": {
      "application/vnd.jupyter.widget-view+json": {
       "model_id": "ab8300749f494f5da090a53f1e32e879",
       "version_major": 2,
       "version_minor": 0
      },
      "text/plain": [
       "GridspecLayout(children=(Button(description='Click Me!', layout=Layout(grid_area='widget001'), style=ButtonSty…"
      ]
     },
     "metadata": {},
     "output_type": "display_data"
    }
   ],
   "source": [
    "from IPython.display import display\n",
    "button = widgets.Button(description=\"Click Me!\")\n",
    "output = widgets.Output()\n",
    "\n",
    "#display(button, output)\n",
    "grid = GridspecLayout(1, 2)\n",
    "grid[0,0] = button\n",
    "def on_button_clicked(b):\n",
    "    with output:\n",
    "        print(\"Button clicked.\")\n",
    "\n",
    "button.on_click(on_button_clicked)\n",
    "grid"
   ]
  },
  {
   "cell_type": "code",
   "execution_count": 36,
   "metadata": {},
   "outputs": [
    {
     "name": "stdout",
     "output_type": "stream",
     "text": [
      "0\n",
      "1\n",
      "2\n",
      "3\n"
     ]
    }
   ],
   "source": [
    "for i in range(4):\n",
    "    print(i)"
   ]
  },
  {
   "cell_type": "code",
   "execution_count": 132,
   "metadata": {},
   "outputs": [
    {
     "data": {
      "application/vnd.jupyter.widget-view+json": {
       "model_id": "37ea544b3e854f499c110dc5f4b3708a",
       "version_major": 2,
       "version_minor": 0
      },
      "text/plain": [
       "GridspecLayout(children=(Dropdown(description='Chrom', index=3, layout=Layout(grid_area='widget001'), options=…"
      ]
     },
     "metadata": {},
     "output_type": "display_data"
    },
    {
     "data": {
      "image/png": "[encoded data removed]",
      "text/plain": [
       "<Figure size 720x720 with 1 Axes>"
      ]
     },
     "metadata": {
      "needs_background": "light"
     },
     "output_type": "display_data"
    }
   ],
   "source": [
    "import os\n",
    "import numpy as np\n",
    "import matplotlib as mpl\n",
    "import matplotlib.pyplot as plt\n",
    "import ipywidgets as widgets\n",
    "from ipywidgets import interact, IntSlider, Dropdown, IntRangeSlider, fixed, RadioButtons, IntText, Button, Layout\n",
    "from ipywidgets import GridspecLayout\n",
    "from IPython.display import display, clear_output\n",
    "\n",
    "def v(data_folder, track_folder, save_folder):\n",
    "    class State:\n",
    "        def __init__(self):\n",
    "            self.chr = \"2R\"\n",
    "            self.binsize = 500\n",
    "            self.posL = 9000000\n",
    "            self.cmap = \"Greens\"\n",
    "            self.step_size = 100000\n",
    "            self.window_size = 200000\n",
    "            self.track_data = {}\n",
    "            \n",
    "    def load_process_hic_matrix(infilename):\n",
    "        x = np.genfromtxt(infilename, delimiter='\\t', skip_header=1)\n",
    "        x = x[:,1:] #take of first row which is generally bin names\n",
    "        # Next two lines take care of 0's and nan's by setting to dummy value (typically 0.1)\n",
    "        dummy_val = 0.1\n",
    "        upper_trim = 99\n",
    "        x[x == 0] = dummy_val\n",
    "        x[np.isnan(x)] = dummy_val\n",
    "        top = np.percentile(x, upper_trim)\n",
    "        x[x > top] = top\n",
    "        x = np.log(x)\n",
    "        x = (x - np.min(x)) / (np.max(x) - np.min(x)) * 1000 # scales to 1-255 betwixt min and max values.\n",
    "        return(x)\n",
    "    \n",
    "    def update_position():\n",
    "        posR = state.posL + (400 * state.binsize)\n",
    "        file = os.path.join(data_folder, state.chr + '_' + str(state.posL) + '_' + str(posR) + '_' + str(state.binsize) + '.txt')\n",
    "        if (os.path.isfile(file) or os.path.isfile(file + '.gz')): \n",
    "            new_img = load_process_hic_matrix(file)\n",
    "            img.set_data(new_img)\n",
    "            #print('gothere')\n",
    "            #txt1.set_text(str(posL))\n",
    "            #L_Mb = float(state.posL) / 1e6\n",
    "            #R_Mb = float(posR) / 1e6\n",
    "            #img.set_extent([L_Mb, R_Mb, R_Mb, L_Mb])\n",
    "            #tloc.set_val(str(L_Mb))\n",
    "            #ax.set_title(state.chr + ': ' + str(L_Mb) + '-' + str(R_Mb) + ' Mb', fontsize=14)\n",
    "            #img.set_cmap(pos.cmap)\n",
    "            #fig.canvas.draw_idle()\n",
    "            #fig, ax = plt.subplots(figsize=(10, 10))\n",
    "            #ax.imshow(new_img)\n",
    "            #clear_output(fig)\n",
    "            #display(fig)\n",
    "            fig.canvas.draw()\n",
    "            \n",
    "        else:\n",
    "            ax.set_title('Position is out of bounds!', fontsize=14)\n",
    "\n",
    "############################################################################        \n",
    "    # Make a dropdown widget for selecting the colormap.\n",
    "    def make_cmap_dropdown():\n",
    "        cmap_dropdown = Dropdown(\n",
    "            options={'Greens', 'Reds', 'viridis', 'plasma', 'magma', 'inferno','cividis', \n",
    "            'gray', 'gray_r', 'prism'},\n",
    "            value='Greens',\n",
    "            description='Color',\n",
    "        )\n",
    "        return cmap_dropdown\n",
    "\n",
    "############################################################################\n",
    "    def make_chr_dropdown(data_folder):\n",
    "        chrs = set()\n",
    "        for filename in os.listdir(data_folder):\n",
    "            chr_, pos1, pos2, binsize = filename.split('_')\n",
    "            chrs.add(chr_)\n",
    "        chr_dropdown = Dropdown(\n",
    "            options=chrs,\n",
    "            value='2R',\n",
    "            description='Chrom',\n",
    "        )\n",
    "        chr_dropdown.observe(chr_dropdown_onchange, names=\"value\")\n",
    "        return chr_dropdown\n",
    "    \n",
    "    def chr_dropdown_onchange(change):\n",
    "        state.chr = change['new']\n",
    "        update_position()\n",
    "    \n",
    "############################################################################\n",
    "    def make_resolution_dropdown():\n",
    "        res_dropdown = Dropdown(\n",
    "            options=['500', '1000', '2000', '4000'],\n",
    "            value='2000',\n",
    "            description='Resolution',\n",
    "        )\n",
    "        return res_dropdown\n",
    " \n",
    "############################################################################\n",
    "\n",
    "    # Make a range slider for adjusting image contrast.\n",
    "    def make_constrast_slider():\n",
    "        min_ = 0\n",
    "        max_ = 100\n",
    "        contrast_slider = IntRangeSlider(\n",
    "            value=[min_, max_],\n",
    "            min=min_,\n",
    "            max=max_,\n",
    "            step=1,\n",
    "            description='Contrast',\n",
    "            disabled=False,\n",
    "            continuous_update=False,\n",
    "            orientation='horizontal',\n",
    "            readout=True,\n",
    "            readout_format='d',\n",
    "            layout=Layout(height='auto', width='auto')\n",
    "        )\n",
    "        contrast_slider.observe(contrast_slider_onchange, names=\"value\")\n",
    "        return contrast_slider\n",
    "    \n",
    "    def contrast_slider_onchange(change):\n",
    "        min_, max_ = change['new']\n",
    "        img.set_norm(mpl.colors.Normalize(vmin=min_, vmax=max_))\n",
    "        fig.canvas.draw_idle()\n",
    "\n",
    "############################################################################\n",
    "\n",
    "\n",
    "    \n",
    "\n",
    "    def make_posslider():\n",
    "        posslider = IntSlider(\n",
    "                        value=0,\n",
    "                        min=0,\n",
    "                        max=1e6, #update this with some function\n",
    "                        description='Pos:',\n",
    "                        layout=Layout(height='auto', width='auto'),\n",
    "                        continuous_update=False,\n",
    "                        disabled=False\n",
    "                    )\n",
    "        return posslider\n",
    "\n",
    "############################################################################\n",
    "\n",
    "    grid = GridspecLayout(4, 3, height='200px')\n",
    "\n",
    "    cmap_dropdown = make_cmap_dropdown()\n",
    "    chr_dropdown = make_chr_dropdown(data_folder)\n",
    "    contrast_slider = make_constrast_slider()\n",
    "    res_dropdown = make_resolution_dropdown()\n",
    "    posslider = make_posslider()\n",
    "    grid[0,0] = chr_dropdown\n",
    "    grid[0,1] = res_dropdown\n",
    "    grid[0,2] = cmap_dropdown\n",
    "    grid[1,:2] = posslider\n",
    "    grid[2,:2] = contrast_slider\n",
    "    \n",
    "    state = State()\n",
    "    fig, ax = plt.subplots(figsize=(10, 10))\n",
    "    img = plt.imshow(np.zeros((100,100)), vmin=0, vmax=1000, cmap=state.cmap, interpolation=\"none\")\n",
    "    display(grid)\n",
    "\n",
    "v('/Users/michaelstadler/Bioinformatics/Projects/hic/viewerfiles/hic-66-68','','')"
   ]
  },
  {
   "cell_type": "code",
   "execution_count": 54,
   "metadata": {},
   "outputs": [
    {
     "data": {
      "text/plain": [
       "5600.0"
      ]
     },
     "execution_count": 54,
     "metadata": {},
     "output_type": "execute_result"
    }
   ],
   "source": [
    "7000*.8\n"
   ]
  },
  {
   "cell_type": "code",
   "execution_count": 55,
   "metadata": {},
   "outputs": [
    {
     "data": {
      "text/plain": [
       "1400.0"
      ]
     },
     "execution_count": 55,
     "metadata": {},
     "output_type": "execute_result"
    }
   ],
   "source": [
    "7000*.2"
   ]
  },
  {
   "cell_type": "code",
   "execution_count": null,
   "metadata": {},
   "outputs": [],
   "source": [
    "plt.imw"
   ]
  }
 ],
 "metadata": {
  "kernelspec": {
   "display_name": "Python (im)",
   "language": "python",
   "name": "im"
  },
  "language_info": {
   "codemirror_mode": {
    "name": "ipython",
    "version": 3
   },
   "file_extension": ".py",
   "mimetype": "text/x-python",
   "name": "python",
   "nbconvert_exporter": "python",
   "pygments_lexer": "ipython3",
   "version": "3.8.3"
  }
 },
 "nbformat": 4,
 "nbformat_minor": 1
}
