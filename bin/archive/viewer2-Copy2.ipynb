{
 "cells": [
  {
   "cell_type": "markdown",
   "metadata": {},
   "source": []
  },
  {
   "cell_type": "code",
   "execution_count": 1,
   "metadata": {
    "collapsed": false
   },
   "outputs": [],
   "source": [
    "import matplotlib as mpl\n",
    "mpl.use('TkAgg')"
   ]
  },
  {
   "cell_type": "code",
   "execution_count": 2,
   "metadata": {
    "collapsed": false
   },
   "outputs": [],
   "source": [
    "import os\n",
    "import numpy as np\n",
    "import matplotlib.pyplot as plt\n",
    "from matplotlib.widgets import Slider, Button, RadioButtons, TextBox\n",
    "import tkinter as tk\n",
    "from tkinter import filedialog\n",
    "import re\n",
    "import ipywidgets as widgets\n",
    "from IPython.display import display\n",
    "%matplotlib inline\n",
    "%matplotlib qt\n",
    "#bug: if I start with inline then change it to qt it's fine...otherwise error if starting qt"
   ]
  },
  {
   "cell_type": "code",
   "execution_count": 3,
   "metadata": {
    "collapsed": true
   },
   "outputs": [],
   "source": [
    "def save_coord_list(filename_coords, coord_list):\n",
    "   with open(filename_coords, 'w') as file_coords: \n",
    "        for i in range(0,len(coord_list)):\n",
    "            chrom = coord_list[i][0]\n",
    "            pos1 = str(int((coord_list[i][1] * 1000000) / 500) * 500)\n",
    "            pos2 = str(int((coord_list[i][2] * 1000000) / 500) * 500)\n",
    "            file_coords.write(chrom + ':' + pos1 + '-' + pos2 + '\\t' + chrom + '\\t' + pos1 + '\\t' + pos2 + '\\n')"
   ]
  },
  {
   "cell_type": "code",
   "execution_count": 4,
   "metadata": {
    "collapsed": false
   },
   "outputs": [],
   "source": [
    "def load_process_hic_matrix(infilename):\n",
    "    x = np.genfromtxt(infilename, delimiter='\\t', skip_header=1)\n",
    "    x = x[:,1:] #take of first row which is generally bin names\n",
    "    # Next two lines take care of 0's and nan's by setting to dummy value (typically 0.1)\n",
    "    dummy_val = 0.1\n",
    "    upper_trim = 99\n",
    "    x[x == 0] = dummy_val\n",
    "    x[np.isnan(x)] = dummy_val\n",
    "    top = np.percentile(x, upper_trim)\n",
    "    x[x > top] = top\n",
    "    x = np.log(x)\n",
    "    x = (x - np.min(x)) / (np.max(x) - np.min(x)) * 1000 # scales to 1-255 betwixt min and max values.\n",
    "    return(x)"
   ]
  },
  {
   "cell_type": "code",
   "execution_count": 5,
   "metadata": {
    "collapsed": false,
    "scrolled": true
   },
   "outputs": [],
   "source": [
    "#def viewer(folder):\n",
    "#for 500 bp: 1000 bins 250,000 bp step\n",
    "\n",
    "folder = '/Users/MStadler/Bioinformatics/Projects/HiC/data_2018/viewer_data/HiC-53_54_multi'\n",
    "save_folder = '/Users/MStadler/Bioinformatics/Projects/HiC/data_2018/visual_inspections/HiC-nc14all_GATC'\n",
    "track_folder = '/Users/MStadler/Bioinformatics/Projects/HiC/data_2018/viewer_data/viewer_tracks/'\n",
    "\n",
    "class Position:\n",
    "    def __init__(self):\n",
    "        Position.chr = \"2R\"\n",
    "        Position.binsize = 500\n",
    "        Position.L = 9000000\n",
    "        Position.cmap = []\n",
    "        Position.step_size = 100000\n",
    "        Position.window_size = 200000\n",
    "        Position.track_data = {}\n",
    "\n",
    "#combine two colormaps\n",
    "def combine_colormaps(cm1, cm2):\n",
    "    colors1 = cm1(np.linspace(0., 1, 128))\n",
    "    colors2 = cm2(np.linspace(0, 1, 128))\n",
    "    colors = np.vstack((colors1, colors2))\n",
    "    return(mpl.colors.LinearSegmentedColormap.from_list('my_colormap', colors))\n",
    "\n",
    "#general function to update genome location\n",
    "def load_chr_pos():\n",
    "    posL = pos.L\n",
    "    posR = posL + pos.window_size\n",
    "    #print('_'.join([chromosome, L, R]))\n",
    "    new_file = os.path.join(folder, '_'.join([pos.chr, str(posL), str(posR)]) + '_' + str(pos.binsize) + '.txt')\n",
    "    if (os.path.isfile(new_file) or os.path.isfile(new_file + '.gz')): \n",
    "        new_img = load_process_hic_matrix(new_file)\n",
    "        img.set_data(new_img)\n",
    "        #txt1.set_text(str(posL))\n",
    "        L_Mb = float(posL) / 1e6\n",
    "        R_Mb = float(posR) / 1e6\n",
    "        img.set_extent([L_Mb, R_Mb, R_Mb, L_Mb])\n",
    "        tloc.set_val(str(L_Mb))\n",
    "        ax.set_title(pos.chr + ': ' + str(L_Mb) + '-' + str(R_Mb) + ' Mb', fontsize=14)\n",
    "        img.set_cmap(pos.cmap)\n",
    "        fig.canvas.draw_idle()\n",
    "    else:\n",
    "        ax.set_title('Position is out of bounds!', fontsize=14)\n",
    "        \n",
    "    #update WIG track data\n",
    "    track_binsize = 500\n",
    "    track_binL = int(posL / track_binsize)\n",
    "    track_binR = int(track_binL + int(pos.window_size / track_binsize))\n",
    "    ax_track.cla()\n",
    "    ax_track.plot(pos.track_data[pos.chr][range(track_binR, track_binL, -1)], range(track_binL, track_binR))\n",
    "    ax_track.set_ylim(track_binL, track_binR)\n",
    "\n",
    "pos = Position()\n",
    "pos.cmap = combine_colormaps(plt.cm.Blues_r, plt.cm.YlOrBr)\n",
    "\n",
    "axcolor=\"white\"\n",
    "fig, ax = plt.subplots(figsize=(10, 10))\n",
    "fig.tight_layout()\n",
    "plt.subplots_adjust(bottom=0.20, top=0.95)\n",
    "folder_name_m = re.search(r'[^/]+$',folder) #matches everything after last slash\n",
    "folder_name = folder_name_m.group()\n",
    "fig.text(0.05, 0.05, folder_name, fontsize=20)\n",
    "img = plt.imshow(np.zeros((100,100)), vmin=0, vmax=1000, cmap=pos.cmap, interpolation=\"none\")\n",
    "\n",
    "#Axes for WIG track data\n",
    "ax_track = plt.axes([0.8, 0.2, 0.1, 0.75],)\n",
    "#ax_track.plot(range(0,10))\n",
    "#ax_track.set_ylim(0,9)\n",
    "\n",
    "#######################################################################\n",
    "# Simple mouse click function to store coordinates\n",
    "coords = []\n",
    "def onclick(event):\n",
    "    if(event.inaxes == ax):\n",
    "        global coords\n",
    "        coords.append((pos.chr, event.xdata, event.ydata))\n",
    "        print((pos.chr, event.xdata, event.ydata))\n",
    "\n",
    "cid = fig.canvas.mpl_connect('button_press_event', onclick)\n",
    "\n",
    "\n",
    "\n",
    "#######################################################################\n",
    "\n",
    "#colormap    \n",
    "ax_colors = plt.axes([0.05, 0.3, 0.10, 0.15])\n",
    "colors = RadioButtons(ax_colors, ('BlOr', 'Rd', 'RdGy'), active=0)\n",
    "\n",
    "def update_colors(selection):\n",
    "    if (selection == 'BlOr'):\n",
    "        colormap = combine_colormaps(plt.cm.Blues_r, plt.cm.YlOrBr)\n",
    "    elif (selection == 'Rd'):\n",
    "        colormap = plt.cm.Reds\n",
    "    elif (selection == 'RdGy'):\n",
    "        colormap = plt.cm.RdGy_r\n",
    "    pos.cmap = colormap\n",
    "    img.set_cmap(pos.cmap)\n",
    "    fig.canvas.draw_idle()   \n",
    "colors.on_clicked(update_colors)\n",
    "\n",
    "#######################################################################        \n",
    "\n",
    "#chromosome radio buttons\n",
    "ax_chrom = plt.axes([0.05, 0.5, 0.05, 0.15])\n",
    "chrom = RadioButtons(ax_chrom, ('2L', '2R', '3L', '3R', 'X'), active=0)\n",
    "\n",
    "def update_chromosome(selection):\n",
    "    pos.chr = selection\n",
    "    load_chr_pos()\n",
    "chrom.on_clicked(update_chromosome)\n",
    "\n",
    "#######################################################################\n",
    "\n",
    "#bin size radio buttons\n",
    "ax_binsize = plt.axes([0.05, 0.8, 0.05, 0.15])\n",
    "binsize = RadioButtons(ax_binsize, ('500', '1000', '2000', '4000'), active=0)\n",
    "\n",
    "def update_binsize(selection):\n",
    "    pos.binsize = int(selection)\n",
    "    pos.step_size = int(selection) * 200\n",
    "    pos.window_size = int(selection) * 400\n",
    "    pos.L = int(pos.L / pos.step_size) * pos.step_size #finds nearest position that is a valid start position for this bin size\n",
    "    load_chr_pos()\n",
    "binsize.on_clicked(update_binsize)\n",
    "\n",
    "#######################################################################\n",
    "\n",
    "#save figure button\n",
    "ax_savefig = plt.axes([0.05, 0.7, 0.07, 0.05]) #left, bottom, width, height\n",
    "savefig = Button(ax_savefig, 'Save', color=\"orange\")\n",
    "\n",
    "def execute_savefig(selection):\n",
    "    file_path = os.path.join(save_folder, (pos.chr + '_' + str(pos.L) + '.png'))\n",
    "    fig_saving, ax_saving = plt.subplots()\n",
    "    plt.imshow(img.get_array(), vmin=scontrastlower.val, vmax=scontrastupper.val, cmap = pos.cmap, interpolation=\"none\", extent = img.get_extent())\n",
    "    mpl.pyplot.savefig(file_path)\n",
    "    mpl.pyplot.close()\n",
    "savefig.on_clicked(execute_savefig)\n",
    "\n",
    "#######################################################################\n",
    "#test change\n",
    "#Axis position textbox\n",
    "ax_position_text = plt.axes([0.50, 0.03, 0.05, 0.05], facecolor=axcolor)\n",
    "tloc = TextBox(ax_position_text, 'Mb')\n",
    "\n",
    "def location_text_callback(text):\n",
    "    pos_entered = int(float(text)* 1000000) #position in megabases\n",
    "    if (pos_entered % pos.step_size == 0):\n",
    "        pos.L = pos_entered\n",
    "        load_chr_pos()\n",
    "tloc.on_submit(location_text_callback)\n",
    "\n",
    "#######################################################################\n",
    "\n",
    "#contrast adjustment sliders   \n",
    "ax_contrast_lower = plt.axes([0.25, 0.1, 0.5, 0.02], facecolor=axcolor)\n",
    "ax_contrast_upper = plt.axes([0.25, 0.13, 0.5, 0.02], facecolor=axcolor)\n",
    "scontrastlower = Slider(ax_contrast_lower, 'Lower', 0, 1000, valinit=0, valstep=1, valfmt=\"%1.0f\", fill=False, edgecolor=\"blue\", linewidth=1)\n",
    "scontrastupper = Slider(ax_contrast_upper, 'Upper', 0, 1000, valinit=1000, valstep=1, valfmt=\"%1.0f\", fill=False, edgecolor=\"orange\", linewidth=1)\n",
    "\n",
    "def update_contrast(val):\n",
    "    lower = int(scontrastlower.val)\n",
    "    img.set_norm(mpl.colors.Normalize(vmin=scontrastlower.val, vmax=scontrastupper.val))\n",
    "    fig.canvas.draw_idle()\n",
    "scontrastlower.on_changed(update_contrast)\n",
    "scontrastupper.on_changed(update_contrast)\n",
    "\n",
    "#######################################################################\n",
    "\n",
    "#left and right scroll buttons\n",
    "ax_200kb_L = plt.axes([0.40, 0.03, 0.05, 0.05])\n",
    "ax_200kb_R = plt.axes([0.58, 0.03, 0.05, 0.05])\n",
    "ax_1Mb_L = plt.axes([0.30, 0.03, 0.05, 0.05])\n",
    "ax_1Mb_R = plt.axes([0.68, 0.03, 0.05, 0.05])\n",
    "\n",
    "b200L = Button(ax_200kb_L, '<', color=\"dodgerblue\", hovercolor=\"darkorange\")\n",
    "b200R = Button(ax_200kb_R, '>', color=\"dodgerblue\", hovercolor=\"darkorange\")\n",
    "b1MbL = Button(ax_1Mb_L, '<<', color=\"dodgerblue\", hovercolor=\"darkorange\")\n",
    "b1MbR = Button(ax_1Mb_R, '>>', color=\"dodgerblue\", hovercolor=\"darkorange\")\n",
    "\n",
    "def update_b200L(click):\n",
    "    pos.L = int(pos.L - pos.step_size)\n",
    "    load_chr_pos()\n",
    "b200L.on_clicked(update_b200L)\n",
    "\n",
    "def update_b200R(click):\n",
    "    pos.L = int(pos.L + pos.step_size)\n",
    "    load_chr_pos()\n",
    "b200R.on_clicked(update_b200R)\n",
    "\n",
    "def update_b1MbL(click):\n",
    "    pos.L = int(pos.L - pos.step_size)\n",
    "    load_chr_pos()\n",
    "b1MbL.on_clicked(update_b1MbL)\n",
    "\n",
    "def update_b1MbR(click):\n",
    "    pos.L = int(pos.L + pos.step_size)\n",
    "    load_chr_pos()\n",
    "b1MbR.on_clicked(update_b1MbR)\n",
    "\n",
    "def load_track_data(track):\n",
    "    if (track == 'S5_DNase'): \n",
    "        track_file = 'S5_DNase_rep1_4col_dm6_binned500.txt'\n",
    "    if (track == 'S5_RNAP2'):\n",
    "        track_file = 'S5_polII_FDR25_4col_dm6_binned500.txt'\n",
    "    if (track == 'BEAF-32 0-12h'):\n",
    "        track_file = 'BEAF-32_0_12h_4col_dm6_binned500.txt'\n",
    "    if (track == 'dCTCF 0-12h'):\n",
    "        track_file = 'dCTCF_0_12h_4col_dm6_binned500.txt'\n",
    "    if (track == 'CP190 0-12h'):\n",
    "        track_file = 'CP190_0_12h_4col_dm6_binned500.txt'\n",
    "    track_file_path = os.path.join(track_folder, track_file)\n",
    "    max_chr_size = 4e7 #maximum allowable size of chromosomes for allocating arrays\n",
    "    track_binsize = 500 #binsize of the track data\n",
    "    pos.track_data = {}\n",
    "    with open(track_file_path, 'r') as infile:\n",
    "        for line in infile:\n",
    "            items = line.split()\n",
    "            (chr, posL, posR, val) = items\n",
    "            chr = re.sub('chr', '', chr)\n",
    "            if (chr not in pos.track_data):\n",
    "                pos.track_data[chr] = np.zeros(int(max_chr_size / track_binsize))\n",
    "            track_bin = int(int(posL) / track_binsize)\n",
    "            pos.track_data[chr][track_bin] = float(val)\n",
    "                       \n",
    "load_track_data('S5_DNase')\n",
    "\n",
    "#track_selector.observe(track_selector_callback)\n",
    "#plt.show()\n",
    "\n",
    "load_chr_pos()\n",
    "\n",
    "def track_selector_callback(change):\n",
    "    if change['type'] == 'change' and change['name'] == 'value':\n",
    "        load_track_data(track_selector.value)\n",
    "        load_chr_pos()\n",
    "    \n",
    "track_selector = widgets.Dropdown(\n",
    "    options=['S5_DNase', 'S5_RNAP2', 'BEAF-32 0-12h', 'dCTCF 0-12h', 'CP190 0-12h'],\n",
    "    value='S5_DNase',\n",
    "    description='Track:',\n",
    "    disabled=False,\n",
    ")\n",
    "track_selector.observe(track_selector_callback)\n",
    "display(track_selector)"
   ]
  },
  {
   "cell_type": "code",
   "execution_count": 65,
   "metadata": {
    "collapsed": false
   },
   "outputs": [
    {
     "name": "stdout",
     "output_type": "stream",
     "text": [
      "things\n"
     ]
    }
   ],
   "source": [
    "a=re.search(r'[^/]+$','hellos/stuff/things')\n",
    "print(a.group())"
   ]
  },
  {
   "cell_type": "code",
   "execution_count": null,
   "metadata": {
    "collapsed": true
   },
   "outputs": [],
   "source": [
    "\n",
    "\n"
   ]
  },
  {
   "cell_type": "code",
   "execution_count": 6,
   "metadata": {
    "collapsed": false
   },
   "outputs": [
    {
     "name": "stdout",
     "output_type": "stream",
     "text": [
      "\n"
     ]
    },
    {
     "data": {
      "text/plain": [
       "[('2L', 7.2548628999942757, 7.2660278207109732),\n",
       " ('2L', 7.2602209628484742, 7.2647913446676959),\n",
       " ('2L', 7.5371915965424465, 7.5417619783616683),\n",
       " ('2L', 14.102055068979334, 14.103328181349818),\n",
       " ('2L', 14.177892266300304, 14.169273570324574),\n",
       " ('2L', 14.705455378098346, 14.713323029366304),\n",
       " ('2L', 17.785517201900511, 17.790087583719728)]"
      ]
     },
     "execution_count": 6,
     "metadata": {},
     "output_type": "execute_result"
    }
   ],
   "source": [
    "coords"
   ]
  },
  {
   "cell_type": "code",
   "execution_count": 15,
   "metadata": {
    "collapsed": false
   },
   "outputs": [
    {
     "name": "stdout",
     "output_type": "stream",
     "text": [
      "\n",
      "('3L', 0.50603046219773495, 0.50743801652892573)\n",
      "('3L', 0.54118197734925011, 0.5434710743801654)\n",
      "('3L', 0.62845470462197728, 0.62809917355371914)"
     ]
    }
   ],
   "source": [
    "save_coord_list('/Users/MStadler/Bioinformatics/Projects/HiC/data_2018/visual_inspections/20190619_HiC-59/20190702_1000bp_58_59_visualDiffs.txt',coords)"
   ]
  },
  {
   "cell_type": "code",
   "execution_count": null,
   "metadata": {
    "collapsed": true
   },
   "outputs": [],
   "source": []
  }
 ],
 "metadata": {
  "kernelspec": {
   "display_name": "hic2",
   "language": "python",
   "name": "hic2"
  },
  "language_info": {
   "codemirror_mode": {
    "name": "ipython",
    "version": 3
   },
   "file_extension": ".py",
   "mimetype": "text/x-python",
   "name": "python",
   "nbconvert_exporter": "python",
   "pygments_lexer": "ipython3",
   "version": "3.4.5"
  }
 },
 "nbformat": 4,
 "nbformat_minor": 0
}
