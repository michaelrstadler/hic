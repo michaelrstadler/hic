{
 "cells": [
  {
   "cell_type": "markdown",
   "metadata": {},
   "source": [
    "## Analyzing GA repeats in GAF-degron Hi-C data\n",
    "\n",
    "### Main question: Do GA-repeats exhibit compartment switching when GAF is degraded\n",
    "\n",
    "### General outline:\n",
    "- Identify reads where one end contains a (AAGAG)x5 repeat\n",
    "- Map the other end of GA-repeat-containing reads, select those that map uniquely\n",
    "- Determine whether there is a shift among these reads from A -> B or B -> A\n",
    "\n",
    "*Identifying GA-repeat-containing reads is accomplished outside this notebook by sort_GArepeats.py. The complimentary reads are then mapped using bowtie via my script hic_iterative_mapping_bowtie.py. Subsequent processing is done in this notebook.*\n",
    "\n",
    "To dos:\n",
    "- control random sampling of mapping"
   ]
  },
  {
   "cell_type": "code",
   "execution_count": 1,
   "metadata": {},
   "outputs": [],
   "source": [
    "from Bio import SeqIO\n",
    "import gzip\n",
    "import re\n",
    "import numpy as np\n",
    "import matplotlib.pyplot as plt\n",
    "import stadc as sc\n",
    "import seaborn as sns\n",
    "import pandas as pd\n",
    "import scipy"
   ]
  },
  {
   "cell_type": "code",
   "execution_count": 2,
   "metadata": {},
   "outputs": [],
   "source": [
    "# Functions.\n",
    "\n",
    "#from re import X\n",
    "\n",
    "\n",
    "def count_bins(filepath, bin_size=25_000, max_chr_size=5e7):\n",
    "    \"\"\"Converts unique mapping file to binned counts (1D) for each chromosome.\n",
    "    \n",
    "    Args:\n",
    "        filepath: str\n",
    "            path to a bowtie alignment file with only unique reads\n",
    "        bin_size: int\n",
    "            Size in bp of bins\n",
    "        max_chr_size: int\n",
    "            Maximum size in bp allowable for chromosome (for memory alloc)\n",
    "\n",
    "    Returns:\n",
    "        bincounts: dict of ndarrays\n",
    "            keys are chromosome names, arrays are bin counts (0-indexed)\n",
    "        maxbins: dict\n",
    "            keys are chromosome names, values are the maximum 0-indexed\n",
    "            bin number oberved in the data for that chromosome\n",
    "    \"\"\"\n",
    "    chroms = ['X', '2L', '2R', '3L', '3R']\n",
    "    bincounts = {}\n",
    "    maxbins = {}\n",
    "    locs_seen = {}\n",
    "\n",
    "    for c in chroms:\n",
    "        bincounts[c] = np.zeros(round(max_chr_size / bin_size))\n",
    "        maxbins[c] = 0\n",
    "        locs_seen[c] = set()\n",
    "\n",
    "    with open(filepath, 'r') as infile:\n",
    "        for line in infile:\n",
    "            line = line.rstrip()\n",
    "            items = line.split('\\t')\n",
    "            chrom = items[2]\n",
    "            pos = int(items[3])\n",
    "            bin_num = int(pos / bin_size)\n",
    "            if chrom in chroms:\n",
    "                if pos not in locs_seen[chrom]:\n",
    "                    bincounts[chrom][bin_num] += 1\n",
    "                    if bin_num > maxbins[chrom]:\n",
    "                        maxbins[chrom] = bin_num\n",
    "                    locs_seen[chrom].add(pos)\n",
    "    return bincounts, maxbins\n",
    "\n",
    "#---------------------------------------------------------------------------\n",
    "def process_plot_compartments(mat, start, end, plot=True):\n",
    "    \"\"\"Makes compartment vector from a supplied contact matrix file.\n",
    "    \n",
    "    Compartment vector is the 1st eigenvector of centered covariance matrix of\n",
    "    distance-normalized contact matrix. Details are contained \n",
    "    within functions in stadc library.\n",
    "\n",
    "    Args:\n",
    "        mat: ndarray\n",
    "            Raw counts matrix for a chromosome, chromosome arm, or region\n",
    "        start: int\n",
    "            First bin to include\n",
    "        end: int\n",
    "            Last bin to include\n",
    "        plot: bool\n",
    "            Whether to plot the contact matrix with compartment vector\n",
    "\n",
    "    Returns:\n",
    "        comp: ndarray\n",
    "            Vector of compartment score (first eigenvector)\n",
    "    \"\"\"\n",
    "    m = mat[start:end, start:end]\n",
    "    m_norm = sc.norm_hic_matrix(m)\n",
    "    distnorm = sc.distnorm(m_norm)\n",
    "    centered, pca, X = sc.pca_matrix(distnorm)\n",
    "    comp = np.linalg.eig(centered)[1][:,0]\n",
    "\n",
    "    if plot:\n",
    "        sc.plot_compartments(centered, X, invert=True)\n",
    "    \n",
    "    return comp\n",
    "\n",
    "#---------------------------------------------------------------------------\n",
    "def plot_1D_counts(bincounts1, bincounts2, maxbins, chrom, start=None, end=None):\n",
    "    \"\"\"Plot counts from two datasets as a function of chromosome position.\"\"\"\n",
    "    def process_bincounts(bc):\n",
    "        \"\"\"Add 0.5 to take care of 0, get rid of excess beyond max, normalize to mean.\"\"\"\n",
    "        x = bc[chrom] + 0.5\n",
    "        x = x[:maxbins[chrom]]\n",
    "        x = x / np.mean(x)\n",
    "        return x\n",
    "\n",
    "    plt.subplots(figsize=(15,5))\n",
    "    x1 = process_bincounts(bincounts1)\n",
    "    x2 = process_bincounts(bincounts2)\n",
    "    if (start is not None) and (end is not None):\n",
    "        x1 = x1[start:end]\n",
    "        x2 = x2[start:end]\n",
    "\n",
    "    plt.plot(np.log(x1), linewidth=1.5)\n",
    "    plt.plot(np.log(x2), linewidth=1.5)\n",
    "    plt.xlabel('Bin Number (25 kb)', fontsize=14)\n",
    "    plt.ylabel('Log counts', fontsize=14)\n",
    "    plt.title(\"Normalized Log counts for GA-repeat-linked reads (\" + chrom + \")\", fontsize=16)\n",
    "    print(np.sum(bincounts1[chrom]), np.sum(bincounts2[chrom]))\n",
    "    return x1, x2\n",
    "\n",
    "#---------------------------------------------------------------------------\n",
    "def plot_compartment_vs_foldchange(bincounts1, bincounts2, comp, chrom):\n",
    "    \"\"\"Plot compartment scores vs. foldchange in counts between two datasets.\"\"\"\n",
    "    if (len(bincounts1) != len(bincounts2)) or (len(bincounts1) != len(comp)):\n",
    "        raise ValueError('All three vectors must be the same length')\n",
    "    foldchange = np.log(bincounts1 / bincounts2)\n",
    "    plt.scatter(foldchange, comp)\n",
    "    plt.xlim(-2,2)\n",
    "    plt.ylim(-0.12, 0.12)\n",
    "    plt.xlabel('Log Fold Change', fontsize=14)\n",
    "    plt.ylabel('Compartment Score', fontsize=14)\n",
    "    plt.hlines(0, -2, 2, linestyles='dashed', color='grey')\n",
    "    plt.vlines(0, -0.12, 0.12, linestyles='dashed', color='grey')\n",
    "    plt.title('Compartment Score vs. Fold Change (' + chrom + ')', fontsize=16)\n",
    "\n",
    "#---------------------------------------------------------------------------\n",
    "def boxplots(bincounts_allchr_1, bincounts_allchr_2, comp, chrom, start, end):\n",
    "    \"\"\"Make a boxplot of the compartment scores for two datasets. The \n",
    "    compartment score is determined for the 25 kb containing each uniquely\n",
    "    mapping read, the distribution of these scores for each dataset forms\n",
    "    the input to the boxplot.\"\"\"\n",
    "    def make_vals(bincounts, comp):\n",
    "        \"\"\"Make vector containing bin compartment scores repeated according to the\n",
    "        number of reads found in that bin.\"\"\"\n",
    "        return np.repeat(comp[bincounts > 0], bincounts[bincounts > 0].astype(int))\n",
    "\n",
    "    bincounts1 = bincounts_allchr_1[chrom][start:end]\n",
    "    bincounts2 = bincounts_allchr_2[chrom][start:end]\n",
    "    vals1 = make_vals(bincounts1, comp)\n",
    "    vals2 = make_vals(bincounts2, comp)\n",
    "    wt = pd.DataFrame(np.random.normal(size=100))\n",
    "    gaf = pd.DataFrame(np.random.normal(size=100))\n",
    "    wt['class'] = 'gaf-gfp'\n",
    "    gaf['class'] = 'gaf-degrad'\n",
    "    combined = pd.concat([wt, gaf])\n",
    "    sns.boxplot(data=combined, x='class', y=0)\n",
    "    pval = scipy.stats.ttest_ind(vals1, vals2)[1]\n",
    "    plt.text(-0.65, plt.ylim()[1] - 0.5, 'pval=' + str(round(pval, 3)))\n",
    "    plt.xlabel('')\n",
    "    plt.ylabel('Compartment Score', fontsize=14)\n",
    "    plt.title(\"Compartment Score Distributions (\" + chrom + \")\", fontsize=16)\n",
    "    return vals1, vals2"
   ]
  },
  {
   "cell_type": "code",
   "execution_count": 5,
   "metadata": {},
   "outputs": [
    {
     "name": "stdout",
     "output_type": "stream",
     "text": [
      "[0.73618618 0.0388958 ]\n"
     ]
    },
    {
     "name": "stderr",
     "output_type": "stream",
     "text": [
      "/var/folders/46/dftvy0sd0jv10kyqlkqc2d8m0000gn/T/ipykernel_98789/3645297348.py:15: UserWarning: This figure was using constrained_layout, but that is incompatible with subplots_adjust and/or tight_layout; disabling constrained_layout.\n",
      "  plt.tight_layout()\n"
     ]
    },
    {
     "name": "stdout",
     "output_type": "stream",
     "text": [
      "30196.0 23021.0\n",
      "[0.40604794 0.17087193]\n"
     ]
    },
    {
     "name": "stderr",
     "output_type": "stream",
     "text": [
      "/var/folders/46/dftvy0sd0jv10kyqlkqc2d8m0000gn/T/ipykernel_98789/3645297348.py:15: UserWarning: This figure was using constrained_layout, but that is incompatible with subplots_adjust and/or tight_layout; disabling constrained_layout.\n",
      "  plt.tight_layout()\n"
     ]
    },
    {
     "name": "stdout",
     "output_type": "stream",
     "text": [
      "57517.0 48152.0\n",
      "[0.66275786 0.05681775]\n"
     ]
    },
    {
     "name": "stderr",
     "output_type": "stream",
     "text": [
      "/var/folders/46/dftvy0sd0jv10kyqlkqc2d8m0000gn/T/ipykernel_98789/3645297348.py:15: UserWarning: This figure was using constrained_layout, but that is incompatible with subplots_adjust and/or tight_layout; disabling constrained_layout.\n",
      "  plt.tight_layout()\n"
     ]
    },
    {
     "name": "stdout",
     "output_type": "stream",
     "text": [
      "27586.0 21073.0\n",
      "[0.79668149 0.04013728]\n"
     ]
    },
    {
     "name": "stderr",
     "output_type": "stream",
     "text": [
      "/var/folders/46/dftvy0sd0jv10kyqlkqc2d8m0000gn/T/ipykernel_98789/3645297348.py:15: UserWarning: This figure was using constrained_layout, but that is incompatible with subplots_adjust and/or tight_layout; disabling constrained_layout.\n",
      "  plt.tight_layout()\n"
     ]
    },
    {
     "name": "stdout",
     "output_type": "stream",
     "text": [
      "43352.0 35212.0\n",
      "[0.71799179 0.01886924]\n"
     ]
    },
    {
     "name": "stderr",
     "output_type": "stream",
     "text": [
      "/var/folders/46/dftvy0sd0jv10kyqlkqc2d8m0000gn/T/ipykernel_98789/3645297348.py:15: UserWarning: This figure was using constrained_layout, but that is incompatible with subplots_adjust and/or tight_layout; disabling constrained_layout.\n",
      "  plt.tight_layout()\n"
     ]
    },
    {
     "name": "stdout",
     "output_type": "stream",
     "text": [
      "20186.0 15772.0\n"
     ]
    }
   ],
   "source": [
    "# Set these variables, run.\n",
    "bin_size = 25_000\n",
    "start = 200\n",
    "end = 700\n",
    "bowtie1 = '/Users/michaelstadler/Bioinformatics/Projects/insulators/data/mapping/GAreps/HiC-68-all.bowtie'\n",
    "bowtie2 = '/Users/michaelstadler/Bioinformatics/Projects/insulators/data/mapping/GAreps/HiC-69-all.bowtie'\n",
    "matrix_file_stem = '/Users/michaelstadler/Bioinformatics/Projects/insulators/outputs/hic-72_binCounts_25kB_chr' \n",
    "outstem = \"/Users/michaelstadler/Bioinformatics/Projects/insulators/data/figure_data/HiC-68-69\"\n",
    "\n",
    "for chrom in ['2L', '2R', '3L', '3R', 'X']:\n",
    "    bc1, maxbins = count_bins(bowtie1, bin_size)\n",
    "    bc2, _ = count_bins(bowtie2, bin_size)\n",
    "    mat = np.loadtxt(matrix_file_stem + chrom + '.txt.gz')\n",
    "    comp = process_plot_compartments(mat, start, end, plot=True);\n",
    "    plt.tight_layout()\n",
    "    plt.savefig(outstem + '-' + chrom + '-compartments.png')\n",
    "    plt.close()\n",
    "    bc1_normed, bc2_normed = plot_1D_counts(bc1, bc2, maxbins, chrom, start, end);\n",
    "    plt.tight_layout()\n",
    "    plt.savefig(outstem + '-' + chrom + '-1Dcounts.png')\n",
    "    plt.close()\n",
    "    plot_compartment_vs_foldchange(bc1_normed, bc2_normed, comp, chrom)\n",
    "    plt.tight_layout()\n",
    "    plt.savefig(outstem + '-' + chrom + '-comp-vs-foldchange.png')\n",
    "    plt.close()\n",
    "    v1, v2 = boxplots(bc1, bc2, comp, chrom, start, end)\n",
    "    plt.tight_layout()\n",
    "    plt.savefig(outstem + '-' + chrom + '-boxplot.png')\n",
    "    plt.close()"
   ]
  },
  {
   "cell_type": "code",
   "execution_count": null,
   "metadata": {},
   "outputs": [],
   "source": []
  },
  {
   "cell_type": "code",
   "execution_count": null,
   "metadata": {},
   "outputs": [],
   "source": []
  },
  {
   "cell_type": "code",
   "execution_count": null,
   "metadata": {},
   "outputs": [],
   "source": []
  },
  {
   "cell_type": "code",
   "execution_count": null,
   "metadata": {},
   "outputs": [],
   "source": []
  },
  {
   "cell_type": "code",
   "execution_count": null,
   "metadata": {},
   "outputs": [],
   "source": []
  }
 ],
 "metadata": {
  "kernelspec": {
   "display_name": "Python 3.9.7 ('hic1')",
   "language": "python",
   "name": "python3"
  },
  "language_info": {
   "codemirror_mode": {
    "name": "ipython",
    "version": 3
   },
   "file_extension": ".py",
   "mimetype": "text/x-python",
   "name": "python",
   "nbconvert_exporter": "python",
   "pygments_lexer": "ipython3",
   "version": "3.9.7"
  },
  "orig_nbformat": 4,
  "vscode": {
   "interpreter": {
    "hash": "58c4a457b42a655b1d8c1a9116373b0117afcce88b2323c68e13c26c7a7e23e7"
   }
  }
 },
 "nbformat": 4,
 "nbformat_minor": 2
}
